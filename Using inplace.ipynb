{
 "cells": [
  {
   "cell_type": "code",
   "execution_count": null,
   "id": "9ad47ad8",
   "metadata": {},
   "outputs": [],
   "source": [
    "# importing pandas\n",
    "import pandas as pd\n",
    "  \n",
    "# creating dataframe\n",
    "dataframe=pd.DataFrame({'Name':['Shobhit','Vaibhav',\n",
    "                                'Vimal','Sourabh'],\n",
    "                          \n",
    "                        'Class':[11,12,10,9],\n",
    "                        'Age':[18,20,21,17]})\n",
    "  \n",
    "# Checking created dataframe\n",
    "# copied dataframe\n",
    "display(dataframe)\n",
    "  \n",
    "# without using inplace renaming the column\n",
    "new_data = dataframe.rename(columns = {'Name':'FirstName'})\n",
    "  \n",
    "# Copied dataframe\n",
    "display(new_data)  \n",
    "  \n",
    "# checking whether dataframe is modified or not\n",
    "# Original dataframe\n",
    "display(dataframe)\n",
    "  \n",
    "# putting inplace=False\n",
    "new_data_2 = dataframe.rename(columns = {'Name':'FirstName'},\n",
    "                              inplace = False)\n",
    "  \n",
    "# Copied dataframe\n",
    "display(new_data_2)\n",
    "  \n",
    "# checking whether dataframe is modified or not\n",
    "# Original dataframe\n",
    "display(dataframe)\n",
    "  \n",
    "# Putting Inplace=True\n",
    "dataframe.rename(columns = {'Name':'FirstName'},\n",
    "                 inplace = True)\n",
    "  \n",
    "# checking whether dataframe is modified or not\n",
    "# Original dataframe\n",
    "display(dataframe)"
   ]
  }
 ],
 "metadata": {
  "kernelspec": {
   "display_name": "Python 3",
   "language": "python",
   "name": "python3"
  },
  "language_info": {
   "codemirror_mode": {
    "name": "ipython",
    "version": 3
   },
   "file_extension": ".py",
   "mimetype": "text/x-python",
   "name": "python",
   "nbconvert_exporter": "python",
   "pygments_lexer": "ipython3",
   "version": "3.8.8"
  }
 },
 "nbformat": 4,
 "nbformat_minor": 5
}
